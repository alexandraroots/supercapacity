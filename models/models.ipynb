{
 "cells": [
  {
   "cell_type": "code",
   "execution_count": 3,
   "id": "normal-world",
   "metadata": {},
   "outputs": [],
   "source": [
    "import pandas as pd\n",
    "import seaborn as sns\n",
    "import numpy as np\n",
    "\n",
    "import matplotlib.pyplot as plt\n",
    "from helpers import preproc_material"
   ]
  },
  {
   "cell_type": "markdown",
   "id": "plastic-shadow",
   "metadata": {},
   "source": [
    "#### 1. OneHotEncoding"
   ]
  },
  {
   "cell_type": "code",
   "execution_count": 205,
   "id": "tight-starter",
   "metadata": {},
   "outputs": [
    {
     "data": {
      "text/html": [
       "<div>\n",
       "<style scoped>\n",
       "    .dataframe tbody tr th:only-of-type {\n",
       "        vertical-align: middle;\n",
       "    }\n",
       "\n",
       "    .dataframe tbody tr th {\n",
       "        vertical-align: top;\n",
       "    }\n",
       "\n",
       "    .dataframe thead th {\n",
       "        text-align: right;\n",
       "    }\n",
       "</style>\n",
       "<table border=\"1\" class=\"dataframe\">\n",
       "  <thead>\n",
       "    <tr style=\"text-align: right;\">\n",
       "      <th></th>\n",
       "      <th>temperature_1</th>\n",
       "      <th>time_1</th>\n",
       "      <th>temperature_2</th>\n",
       "      <th>time_2</th>\n",
       "      <th>base</th>\n",
       "      <th>m_salt_2</th>\n",
       "      <th>name_salt1</th>\n",
       "      <th>name_salt2</th>\n",
       "      <th>volume_solvent</th>\n",
       "      <th>density</th>\n",
       "      <th>structure</th>\n",
       "      <th>capacity</th>\n",
       "    </tr>\n",
       "  </thead>\n",
       "  <tbody>\n",
       "    <tr>\n",
       "      <th>0</th>\n",
       "      <td>90</td>\n",
       "      <td>12.0</td>\n",
       "      <td>400.0</td>\n",
       "      <td>3.0</td>\n",
       "      <td>urea</td>\n",
       "      <td>1.0</td>\n",
       "      <td>Nickel(II) nitrate hexahydrate</td>\n",
       "      <td>Cobalt(II) nitrate hexahydrate</td>\n",
       "      <td>280.0</td>\n",
       "      <td>20.0</td>\n",
       "      <td>urchin-like</td>\n",
       "      <td>295.0</td>\n",
       "    </tr>\n",
       "    <tr>\n",
       "      <th>1</th>\n",
       "      <td>90</td>\n",
       "      <td>12.0</td>\n",
       "      <td>400.0</td>\n",
       "      <td>3.0</td>\n",
       "      <td>urea</td>\n",
       "      <td>1.0</td>\n",
       "      <td>Nickel(II) nitrate hexahydrate</td>\n",
       "      <td>Cobalt(II) nitrate hexahydrate</td>\n",
       "      <td>280.0</td>\n",
       "      <td>30.0</td>\n",
       "      <td>urchin-like</td>\n",
       "      <td>250.0</td>\n",
       "    </tr>\n",
       "    <tr>\n",
       "      <th>2</th>\n",
       "      <td>90</td>\n",
       "      <td>12.0</td>\n",
       "      <td>400.0</td>\n",
       "      <td>3.0</td>\n",
       "      <td>urea</td>\n",
       "      <td>1.0</td>\n",
       "      <td>Nickel(II) nitrate hexahydrate</td>\n",
       "      <td>Cobalt(II) nitrate hexahydrate</td>\n",
       "      <td>280.0</td>\n",
       "      <td>40.0</td>\n",
       "      <td>urchin-like</td>\n",
       "      <td>237.0</td>\n",
       "    </tr>\n",
       "    <tr>\n",
       "      <th>3</th>\n",
       "      <td>90</td>\n",
       "      <td>12.0</td>\n",
       "      <td>400.0</td>\n",
       "      <td>3.0</td>\n",
       "      <td>urea</td>\n",
       "      <td>1.0</td>\n",
       "      <td>Nickel(II) nitrate hexahydrate</td>\n",
       "      <td>Cobalt(II) nitrate hexahydrate</td>\n",
       "      <td>280.0</td>\n",
       "      <td>60.0</td>\n",
       "      <td>urchin-like</td>\n",
       "      <td>225.0</td>\n",
       "    </tr>\n",
       "    <tr>\n",
       "      <th>4</th>\n",
       "      <td>140</td>\n",
       "      <td>12.0</td>\n",
       "      <td>300.0</td>\n",
       "      <td>3.0</td>\n",
       "      <td>urea</td>\n",
       "      <td>1.0</td>\n",
       "      <td>Nickel(II) nitrate hexahydrate</td>\n",
       "      <td>Cobalt(II) nitrate hexahydrate</td>\n",
       "      <td>20.0</td>\n",
       "      <td>1.0</td>\n",
       "      <td>nanorods</td>\n",
       "      <td>710.0</td>\n",
       "    </tr>\n",
       "  </tbody>\n",
       "</table>\n",
       "</div>"
      ],
      "text/plain": [
       "   temperature_1  time_1  temperature_2  time_2  base  m_salt_2  \\\n",
       "0             90    12.0          400.0     3.0  urea       1.0   \n",
       "1             90    12.0          400.0     3.0  urea       1.0   \n",
       "2             90    12.0          400.0     3.0  urea       1.0   \n",
       "3             90    12.0          400.0     3.0  urea       1.0   \n",
       "4            140    12.0          300.0     3.0  urea       1.0   \n",
       "\n",
       "                       name_salt1                      name_salt2  \\\n",
       "0  Nickel(II) nitrate hexahydrate  Cobalt(II) nitrate hexahydrate   \n",
       "1  Nickel(II) nitrate hexahydrate  Cobalt(II) nitrate hexahydrate   \n",
       "2  Nickel(II) nitrate hexahydrate  Cobalt(II) nitrate hexahydrate   \n",
       "3  Nickel(II) nitrate hexahydrate  Cobalt(II) nitrate hexahydrate   \n",
       "4  Nickel(II) nitrate hexahydrate  Cobalt(II) nitrate hexahydrate   \n",
       "\n",
       "   volume_solvent  density    structure  capacity  \n",
       "0           280.0     20.0  urchin-like     295.0  \n",
       "1           280.0     30.0  urchin-like     250.0  \n",
       "2           280.0     40.0  urchin-like     237.0  \n",
       "3           280.0     60.0  urchin-like     225.0  \n",
       "4            20.0      1.0     nanorods     710.0  "
      ]
     },
     "execution_count": 205,
     "metadata": {},
     "output_type": "execute_result"
    }
   ],
   "source": [
    "data = pd.read_csv('clear_data.csv', index_col=[0])\n",
    "data.head()"
   ]
  },
  {
   "cell_type": "code",
   "execution_count": 206,
   "id": "exact-grant",
   "metadata": {},
   "outputs": [
    {
     "name": "stdout",
     "output_type": "stream",
     "text": [
      "<class 'pandas.core.frame.DataFrame'>\n",
      "Int64Index: 75 entries, 0 to 74\n",
      "Data columns (total 12 columns):\n",
      " #   Column          Non-Null Count  Dtype  \n",
      "---  ------          --------------  -----  \n",
      " 0   temperature_1   75 non-null     int64  \n",
      " 1   time_1          75 non-null     float64\n",
      " 2   temperature_2   74 non-null     float64\n",
      " 3   time_2          74 non-null     float64\n",
      " 4   base            73 non-null     object \n",
      " 5   m_salt_2        75 non-null     float64\n",
      " 6   name_salt1      75 non-null     object \n",
      " 7   name_salt2      75 non-null     object \n",
      " 8   volume_solvent  74 non-null     float64\n",
      " 9   density         75 non-null     float64\n",
      " 10  structure       75 non-null     object \n",
      " 11  capacity        75 non-null     float64\n",
      "dtypes: float64(7), int64(1), object(4)\n",
      "memory usage: 7.6+ KB\n"
     ]
    }
   ],
   "source": [
    "data.info()"
   ]
  },
  {
   "cell_type": "code",
   "execution_count": 199,
   "id": "automated-converter",
   "metadata": {},
   "outputs": [],
   "source": [
    "# capacity predict\n",
    "y = data.capacity\n",
    "y_class = data.structure\n",
    "x = data.drop(['capacity', 'structure'], axis=1)"
   ]
  },
  {
   "cell_type": "code",
   "execution_count": 158,
   "id": "prepared-cologne",
   "metadata": {},
   "outputs": [],
   "source": [
    "from sklearn.ensemble import RandomForestRegressor\n",
    "from sklearn.model_selection import train_test_split\n",
    "\n",
    "from sklearn.preprocessing import OneHotEncoder\n",
    "\n",
    "from sklearn.metrics import mean_squared_error"
   ]
  },
  {
   "cell_type": "code",
   "execution_count": 274,
   "id": "hybrid-elements",
   "metadata": {},
   "outputs": [],
   "source": [
    "enc = OneHotEncoder(handle_unknown='ignore')\n",
    "enc.fit(x)\n",
    "x = enc.transform(x).toarray()"
   ]
  },
  {
   "cell_type": "code",
   "execution_count": 275,
   "id": "aquatic-lighter",
   "metadata": {},
   "outputs": [],
   "source": [
    "X_train, X_test, y_train, y_test = train_test_split(x, y, test_size=0.4, random_state=10)"
   ]
  },
  {
   "cell_type": "code",
   "execution_count": 301,
   "id": "subsequent-diving",
   "metadata": {},
   "outputs": [],
   "source": [
    "from xgboost import XGBRegressor"
   ]
  },
  {
   "cell_type": "code",
   "execution_count": 276,
   "id": "sweet-marriage",
   "metadata": {},
   "outputs": [
    {
     "data": {
      "text/plain": [
       "311.4288229349171"
      ]
     },
     "execution_count": 276,
     "metadata": {},
     "output_type": "execute_result"
    }
   ],
   "source": [
    "xgb = XGBRegressor()\n",
    "xgb.fit(X_train, y_train)\n",
    "\n",
    "y_xgb = xgb.predict(X_test)\n",
    "np.sqrt(mean_squared_error(y_xgb, y_test))"
   ]
  },
  {
   "cell_type": "code",
   "execution_count": 277,
   "id": "developed-money",
   "metadata": {},
   "outputs": [
    {
     "data": {
      "text/plain": [
       "384.46206593982396"
      ]
     },
     "execution_count": 277,
     "metadata": {},
     "output_type": "execute_result"
    }
   ],
   "source": [
    "forest = RandomForestRegressor(n_estimators = 3000, max_depth = 25, random_state = 19)\n",
    "forest.fit(X_train, y_train)\n",
    "\n",
    "y_forest = forest.predict(X_test)\n",
    "np.sqrt(mean_squared_error(y_forest, y_test))"
   ]
  },
  {
   "cell_type": "markdown",
   "id": "creative-peninsula",
   "metadata": {},
   "source": [
    "#### 2. Morgan finger print"
   ]
  },
  {
   "cell_type": "code",
   "execution_count": 200,
   "id": "pointed-immune",
   "metadata": {},
   "outputs": [],
   "source": [
    "from rdkit import Chem\n",
    "from rdkit.Chem import AllChem\n",
    "import pubchempy as pcp"
   ]
  },
  {
   "cell_type": "code",
   "execution_count": 312,
   "id": "angry-dealer",
   "metadata": {},
   "outputs": [],
   "source": [
    "def mol_name_to_smiles(name: str):\n",
    "    return pcp.get_compounds(name, 'name')[0].isomeric_smiles\n",
    "\n",
    "\n",
    "def smiles_to_mol(smi):\n",
    "    return Chem.MolFromSmiles(smi)\n",
    "\n",
    "\n",
    "def morgan_fingerprint(smi):\n",
    "    mol = smiles_to_mol(smi)\n",
    "    return np.array(AllChem.GetMorganFingerprintAsBitVect(mol, useChirality=True, radius=2, nBits=100))"
   ]
  },
  {
   "cell_type": "code",
   "execution_count": 487,
   "id": "selected-camping",
   "metadata": {
    "scrolled": true
   },
   "outputs": [],
   "source": [
    "# for elem in ['name_salt1', 'name_salt2', 'base']:\n",
    "#     data[elem] = data[elem].apply(lambda x: morgan_fingerprint(mol_name_to_smiles(x)))\n",
    "# #     data = data.drop([elem], axis=1)"
   ]
  },
  {
   "cell_type": "code",
   "execution_count": 238,
   "id": "rental-works",
   "metadata": {},
   "outputs": [
    {
     "data": {
      "text/plain": [
       "Index(['temperature_1', 'time_1', 'temperature_2', 'time_2', 'base',\n",
       "       'm_salt_2', 'name_salt1', 'name_salt2', 'volume_solvent', 'density',\n",
       "       'structure', 'capacity'],\n",
       "      dtype='object')"
      ]
     },
     "execution_count": 238,
     "metadata": {},
     "output_type": "execute_result"
    }
   ],
   "source": [
    "data.columns"
   ]
  },
  {
   "cell_type": "code",
   "execution_count": 209,
   "id": "liquid-scientist",
   "metadata": {},
   "outputs": [
    {
     "name": "stdout",
     "output_type": "stream",
     "text": [
      "Nickel(II) nitrate hexahydrate\n",
      "Nickel(II) nitrate hexahydrate\n",
      "Nickel(II) nitrate hexahydrate\n",
      "Nickel(II) nitrate hexahydrate\n",
      "Nickel(II) nitrate hexahydrate\n",
      "Nickel(II) nitrate hexahydrate\n",
      "Nickel(II) nitrate hexahydrate\n",
      "Nickel(II) nitrate hexahydrate\n",
      "Nickel(II) nitrate hexahydrate\n",
      "Nickel(II) nitrate hexahydrate\n",
      "Nickel(II) nitrate hexahydrate\n",
      "Nickel(II) nitrate hexahydrate\n",
      "Nickel(II) nitrate hexahydrate\n",
      "Nickel(II) nitrate hexahydrate\n",
      "Nickel(II) nitrate hexahydrate\n",
      "Nickel(II) nitrate hexahydrate\n",
      "Nickel(II) nitrate hexahydrate\n",
      "Nickel(II) nitrate hexahydrate\n",
      "Nickel(II) nitrate hexahydrate\n",
      "Nickel(II) nitrate hexahydrate\n",
      "Nickel(II) nitrate hexahydrate\n",
      "Nickel(II) nitrate hexahydrate\n",
      "Nickel(II) nitrate hexahydrate\n",
      "Nickel(II) nitrate hexahydrate\n",
      "Nickel(II) nitrate hexahydrate\n",
      "Nickel(II) nitrate hexahydrate\n",
      "Nickel(II) nitrate hexahydrate\n",
      "Nickel(II) nitrate hexahydrate\n",
      "Nickel(II) nitrate hexahydrate\n",
      "Nickel(II) nitrate hexahydrate\n",
      "Nickel(II) nitrate hexahydrate\n",
      "Nickel(II) nitrate hexahydrate\n",
      "Nickel(II) nitrate hexahydrate\n",
      "Nickel(II) nitrate hexahydrate\n",
      "Nickel(II) nitrate hexahydrate\n",
      "Nickel(II) nitrate hexahydrate\n",
      "Nickel(II) nitrate hexahydrate\n",
      "Nickel(II) nitrate hexahydrate\n",
      "Nickel(II) nitrate hexahydrate\n",
      "Nickel(II) nitrate hexahydrate\n",
      "Nickel(II) nitrate hexahydrate\n",
      "Nickel(II) nitrate hexahydrate\n",
      "Nickel(II) nitrate hexahydrate\n",
      "Nickel(II) nitrate hexahydrate\n",
      "Nickel(II) nitrate hexahydrate\n",
      "Nickel(II) nitrate hexahydrate\n",
      "Nickel(II) nitrate hexahydrate\n",
      "Nickel(II) nitrate hexahydrate\n",
      "Nickel(II) nitrate hexahydrate\n",
      "Nickel(II) nitrate hexahydrate\n",
      "Nickel(II) nitrate hexahydrate\n",
      "Nickel(II) nitrate hexahydrate\n",
      "Nickel(II) nitrate hexahydrate\n",
      "Nickel(II) nitrate hexahydrate\n",
      "Nickel(II) nitrate hexahydrate\n",
      "Nickel(II) nitrate hexahydrate\n",
      "Nickel(II) nitrate hexahydrate\n",
      "Nickel(II) nitrate hexahydrate\n",
      "Nickel(II) nitrate hexahydrate\n",
      "Nickel(II) nitrate hexahydrate\n",
      "Nickel(II) nitrate hexahydrate\n",
      "Nickel(II) nitrate hexahydrate\n",
      "Nickel(II) nitrate hexahydrate\n",
      "Nickel(II) nitrate hexahydrate\n",
      "Nickel(II) nitrate hexahydrate\n",
      "Nickel(II) nitrate hexahydrate\n",
      "Nickel(II) nitrate hexahydrate\n",
      "Nickel(II) nitrate hexahydrate\n",
      "Nickel(II) nitrate hexahydrate\n",
      "Nickel(II) nitrate hexahydrate\n",
      "Nickel(II) nitrate hexahydrate\n",
      "Nickel(II) nitrate hexahydrate\n",
      "Nickel(II) nitrate hexahydrate\n",
      "Nickel(II) nitrate hexahydrate\n",
      "Nickel(II) nitrate hexahydrate\n",
      "Cobalt(II) nitrate hexahydrate\n",
      "Cobalt(II) nitrate hexahydrate\n",
      "Cobalt(II) nitrate hexahydrate\n",
      "Cobalt(II) nitrate hexahydrate\n",
      "Cobalt(II) nitrate hexahydrate\n",
      "Cobalt(II) nitrate hexahydrate\n",
      "Cobalt(II) nitrate hexahydrate\n",
      "Cobalt(II) nitrate hexahydrate\n",
      "Cobalt(II) nitrate hexahydrate\n",
      "Cobalt(II) nitrate hexahydrate\n",
      "Cobalt(II) nitrate hexahydrate\n",
      "Cobalt(II) nitrate hexahydrate\n",
      "Cobalt(II) nitrate hexahydrate\n",
      "Cobalt(II) nitrate hexahydrate\n",
      "Cobalt(II) nitrate hexahydrate\n",
      "Cobalt(II) nitrate hexahydrate\n",
      "Cobalt(II) nitrate hexahydrate\n",
      "Cobalt(II) nitrate hexahydrate\n",
      "Cobalt(II) nitrate hexahydrate\n",
      "Cobalt(II) nitrate hexahydrate\n",
      "Cobalt(II) nitrate hexahydrate\n",
      "Cobalt(II) nitrate hexahydrate\n",
      "Cobalt(II) nitrate hexahydrate\n",
      "Cobalt(II) nitrate hexahydrate\n",
      "Cobalt(II) nitrate hexahydrate\n",
      "Cobalt(II) nitrate hexahydrate\n",
      "Cobalt(II) nitrate hexahydrate\n",
      "Cobalt(II) nitrate hexahydrate\n",
      "Cobalt(II) nitrate hexahydrate\n",
      "Cobalt(II) nitrate hexahydrate\n",
      "Cobalt(II) nitrate hexahydrate\n",
      "Cobalt(II) nitrate hexahydrate\n",
      "Cobalt(II) nitrate hexahydrate\n",
      "Cobalt(II) nitrate hexahydrate\n",
      "Cobalt(II) nitrate hexahydrate\n",
      "Cobalt(II) nitrate hexahydrate\n",
      "Cobalt(II) nitrate hexahydrate\n",
      "Cobalt(II) nitrate hexahydrate\n",
      "Cobalt(II) nitrate hexahydrate\n",
      "Cobalt(II) nitrate hexahydrate\n",
      "Cobalt(II) nitrate hexahydrate\n",
      "Cobalt(II) nitrate hexahydrate\n",
      "Cobalt(II) nitrate hexahydrate\n",
      "Cobalt(II) nitrate hexahydrate\n",
      "Cobalt(II) nitrate hexahydrate\n",
      "Cobalt(II) nitrate hexahydrate\n",
      "Cobalt(II) nitrate hexahydrate\n",
      "Cobalt(II) nitrate hexahydrate\n",
      "Cobalt(II) nitrate hexahydrate\n",
      "Cobalt(II) nitrate hexahydrate\n",
      "Cobalt(II) nitrate hexahydrate\n",
      "Cobalt(II) nitrate hexahydrate\n",
      "Cobalt(II) nitrate hexahydrate\n",
      "Cobalt(II) nitrate hexahydrate\n",
      "Cobalt(II) nitrate hexahydrate\n",
      "Cobalt(II) nitrate hexahydrate\n",
      "Cobalt(II) nitrate hexahydrate\n",
      "Cobalt(II) nitrate hexahydrate\n",
      "Cobalt(II) nitrate hexahydrate\n",
      "Cobalt(II) nitrate hexahydrate\n",
      "Cobalt(II) nitrate hexahydrate\n",
      "Cobalt(II) nitrate hexahydrate\n",
      "Cobalt(II) nitrate hexahydrate\n",
      "Cobalt(II) nitrate hexahydrate\n",
      "Cobalt(II) nitrate hexahydrate\n",
      "Cobalt(II) nitrate hexahydrate\n",
      "Cobalt(II) nitrate hexahydrate\n",
      "Cobalt(II) nitrate hexahydrate\n",
      "Cobalt(II) nitrate hexahydrate\n",
      "Cobalt(II) nitrate hexahydrate\n",
      "Cobalt(II) nitrate hexahydrate\n",
      "Cobalt(II) nitrate hexahydrate\n",
      "Cobalt(II) nitrate hexahydrate\n",
      "Cobalt(II) nitrate hexahydrate\n",
      "Cobalt(II) nitrate hexahydrate\n",
      "urea\n",
      "urea\n",
      "urea\n",
      "urea\n",
      "urea\n",
      "urea\n",
      "urea\n",
      "urea\n",
      "urea\n",
      "urea\n",
      "urea\n",
      "urea\n",
      "urea\n",
      "urea\n",
      "urea\n",
      "urea\n",
      "urea\n",
      "urea\n",
      "urea\n",
      "urea\n",
      "urea\n",
      "urea\n",
      "urea\n",
      "urea\n",
      "urea\n",
      "urea\n",
      "urea\n",
      "urea\n",
      "urea\n",
      "urea\n",
      "urea\n",
      "urea\n",
      "urea\n",
      "urea\n",
      "urea\n",
      "urea\n",
      "urea\n",
      "urea\n",
      "urea\n",
      "urea\n",
      "urea\n",
      "urea\n",
      "urea\n",
      "urea\n",
      "urea\n",
      "urea\n",
      "urea\n",
      "urea\n",
      "urea\n",
      "urea\n",
      "urea\n",
      "urea\n",
      "urea\n",
      "urea\n",
      "urea\n",
      "urea\n",
      "urea\n",
      "urea\n",
      "urea\n",
      "urea\n",
      "urea\n",
      "urea\n",
      "urea\n",
      "urea\n",
      "urea\n",
      "urea\n",
      "urea\n",
      "urea\n",
      "urea\n",
      "urea\n",
      "urea\n",
      "urea\n",
      "urea\n",
      "urea\n",
      "urea\n"
     ]
    }
   ],
   "source": [
    "fp_1 = []\n",
    "fp_2 = []\n",
    "fp_3 = []\n",
    "for elem in ['name_salt1', 'name_salt2', 'base']:\n",
    "    for i in range(data.shape[0]):\n",
    "        row = data.iloc[0][elem]\n",
    "        if elem == 'name_salt1':\n",
    "            fp_1.append(morgan_fingerprint(mol_name_to_smiles(row)))\n",
    "        if elem == 'name_salt2':\n",
    "            fp_2.append(morgan_fingerprint(mol_name_to_smiles(row)))\n",
    "        if elem == 'base':\n",
    "            fp_3.append(morgan_fingerprint(mol_name_to_smiles(row)))"
   ]
  },
  {
   "cell_type": "code",
   "execution_count": 253,
   "id": "gothic-florist",
   "metadata": {},
   "outputs": [],
   "source": [
    "data = data.drop(['name_salt1', 'name_salt2', 'base'], axis=1)"
   ]
  },
  {
   "cell_type": "code",
   "execution_count": 254,
   "id": "worst-woman",
   "metadata": {},
   "outputs": [],
   "source": [
    "preproc_data = pd.concat([data, pd.DataFrame(fp_1)], axis=1)\n",
    "preproc_data = pd.concat([preproc_data, pd.DataFrame(fp_2, columns=range(100, 200))], axis=1)\n",
    "preproc_data = pd.concat([preproc_data, pd.DataFrame(fp_3, columns=range(200, 300))], axis=1)"
   ]
  },
  {
   "cell_type": "code",
   "execution_count": 256,
   "id": "emerging-worst",
   "metadata": {},
   "outputs": [
    {
     "data": {
      "text/html": [
       "<div>\n",
       "<style scoped>\n",
       "    .dataframe tbody tr th:only-of-type {\n",
       "        vertical-align: middle;\n",
       "    }\n",
       "\n",
       "    .dataframe tbody tr th {\n",
       "        vertical-align: top;\n",
       "    }\n",
       "\n",
       "    .dataframe thead th {\n",
       "        text-align: right;\n",
       "    }\n",
       "</style>\n",
       "<table border=\"1\" class=\"dataframe\">\n",
       "  <thead>\n",
       "    <tr style=\"text-align: right;\">\n",
       "      <th></th>\n",
       "      <th>temperature_1</th>\n",
       "      <th>time_1</th>\n",
       "      <th>temperature_2</th>\n",
       "      <th>time_2</th>\n",
       "      <th>m_salt_2</th>\n",
       "      <th>volume_solvent</th>\n",
       "      <th>density</th>\n",
       "      <th>structure</th>\n",
       "      <th>capacity</th>\n",
       "      <th>0</th>\n",
       "      <th>...</th>\n",
       "      <th>290</th>\n",
       "      <th>291</th>\n",
       "      <th>292</th>\n",
       "      <th>293</th>\n",
       "      <th>294</th>\n",
       "      <th>295</th>\n",
       "      <th>296</th>\n",
       "      <th>297</th>\n",
       "      <th>298</th>\n",
       "      <th>299</th>\n",
       "    </tr>\n",
       "  </thead>\n",
       "  <tbody>\n",
       "    <tr>\n",
       "      <th>0</th>\n",
       "      <td>90</td>\n",
       "      <td>12.0</td>\n",
       "      <td>400.0</td>\n",
       "      <td>3.0</td>\n",
       "      <td>1.000000</td>\n",
       "      <td>280.0</td>\n",
       "      <td>20.0</td>\n",
       "      <td>urchin-like</td>\n",
       "      <td>295.0</td>\n",
       "      <td>0</td>\n",
       "      <td>...</td>\n",
       "      <td>0</td>\n",
       "      <td>0</td>\n",
       "      <td>0</td>\n",
       "      <td>0</td>\n",
       "      <td>0</td>\n",
       "      <td>0</td>\n",
       "      <td>0</td>\n",
       "      <td>0</td>\n",
       "      <td>0</td>\n",
       "      <td>0</td>\n",
       "    </tr>\n",
       "    <tr>\n",
       "      <th>1</th>\n",
       "      <td>90</td>\n",
       "      <td>12.0</td>\n",
       "      <td>400.0</td>\n",
       "      <td>3.0</td>\n",
       "      <td>1.000000</td>\n",
       "      <td>280.0</td>\n",
       "      <td>30.0</td>\n",
       "      <td>urchin-like</td>\n",
       "      <td>250.0</td>\n",
       "      <td>0</td>\n",
       "      <td>...</td>\n",
       "      <td>0</td>\n",
       "      <td>0</td>\n",
       "      <td>0</td>\n",
       "      <td>0</td>\n",
       "      <td>0</td>\n",
       "      <td>0</td>\n",
       "      <td>0</td>\n",
       "      <td>0</td>\n",
       "      <td>0</td>\n",
       "      <td>0</td>\n",
       "    </tr>\n",
       "    <tr>\n",
       "      <th>2</th>\n",
       "      <td>90</td>\n",
       "      <td>12.0</td>\n",
       "      <td>400.0</td>\n",
       "      <td>3.0</td>\n",
       "      <td>1.000000</td>\n",
       "      <td>280.0</td>\n",
       "      <td>40.0</td>\n",
       "      <td>urchin-like</td>\n",
       "      <td>237.0</td>\n",
       "      <td>0</td>\n",
       "      <td>...</td>\n",
       "      <td>0</td>\n",
       "      <td>0</td>\n",
       "      <td>0</td>\n",
       "      <td>0</td>\n",
       "      <td>0</td>\n",
       "      <td>0</td>\n",
       "      <td>0</td>\n",
       "      <td>0</td>\n",
       "      <td>0</td>\n",
       "      <td>0</td>\n",
       "    </tr>\n",
       "    <tr>\n",
       "      <th>3</th>\n",
       "      <td>90</td>\n",
       "      <td>12.0</td>\n",
       "      <td>400.0</td>\n",
       "      <td>3.0</td>\n",
       "      <td>1.000000</td>\n",
       "      <td>280.0</td>\n",
       "      <td>60.0</td>\n",
       "      <td>urchin-like</td>\n",
       "      <td>225.0</td>\n",
       "      <td>0</td>\n",
       "      <td>...</td>\n",
       "      <td>0</td>\n",
       "      <td>0</td>\n",
       "      <td>0</td>\n",
       "      <td>0</td>\n",
       "      <td>0</td>\n",
       "      <td>0</td>\n",
       "      <td>0</td>\n",
       "      <td>0</td>\n",
       "      <td>0</td>\n",
       "      <td>0</td>\n",
       "    </tr>\n",
       "    <tr>\n",
       "      <th>4</th>\n",
       "      <td>140</td>\n",
       "      <td>12.0</td>\n",
       "      <td>300.0</td>\n",
       "      <td>3.0</td>\n",
       "      <td>1.000000</td>\n",
       "      <td>20.0</td>\n",
       "      <td>1.0</td>\n",
       "      <td>nanorods</td>\n",
       "      <td>710.0</td>\n",
       "      <td>0</td>\n",
       "      <td>...</td>\n",
       "      <td>0</td>\n",
       "      <td>0</td>\n",
       "      <td>0</td>\n",
       "      <td>0</td>\n",
       "      <td>0</td>\n",
       "      <td>0</td>\n",
       "      <td>0</td>\n",
       "      <td>0</td>\n",
       "      <td>0</td>\n",
       "      <td>0</td>\n",
       "    </tr>\n",
       "    <tr>\n",
       "      <th>...</th>\n",
       "      <td>...</td>\n",
       "      <td>...</td>\n",
       "      <td>...</td>\n",
       "      <td>...</td>\n",
       "      <td>...</td>\n",
       "      <td>...</td>\n",
       "      <td>...</td>\n",
       "      <td>...</td>\n",
       "      <td>...</td>\n",
       "      <td>...</td>\n",
       "      <td>...</td>\n",
       "      <td>...</td>\n",
       "      <td>...</td>\n",
       "      <td>...</td>\n",
       "      <td>...</td>\n",
       "      <td>...</td>\n",
       "      <td>...</td>\n",
       "      <td>...</td>\n",
       "      <td>...</td>\n",
       "      <td>...</td>\n",
       "      <td>...</td>\n",
       "    </tr>\n",
       "    <tr>\n",
       "      <th>70</th>\n",
       "      <td>180</td>\n",
       "      <td>10.0</td>\n",
       "      <td>350.0</td>\n",
       "      <td>3.5</td>\n",
       "      <td>0.008658</td>\n",
       "      <td>35.0</td>\n",
       "      <td>1.0</td>\n",
       "      <td>nanosheets</td>\n",
       "      <td>558.6</td>\n",
       "      <td>0</td>\n",
       "      <td>...</td>\n",
       "      <td>0</td>\n",
       "      <td>0</td>\n",
       "      <td>0</td>\n",
       "      <td>0</td>\n",
       "      <td>0</td>\n",
       "      <td>0</td>\n",
       "      <td>0</td>\n",
       "      <td>0</td>\n",
       "      <td>0</td>\n",
       "      <td>0</td>\n",
       "    </tr>\n",
       "    <tr>\n",
       "      <th>71</th>\n",
       "      <td>180</td>\n",
       "      <td>10.0</td>\n",
       "      <td>350.0</td>\n",
       "      <td>3.5</td>\n",
       "      <td>0.008658</td>\n",
       "      <td>35.0</td>\n",
       "      <td>1.0</td>\n",
       "      <td>nanosheets</td>\n",
       "      <td>484.6</td>\n",
       "      <td>0</td>\n",
       "      <td>...</td>\n",
       "      <td>0</td>\n",
       "      <td>0</td>\n",
       "      <td>0</td>\n",
       "      <td>0</td>\n",
       "      <td>0</td>\n",
       "      <td>0</td>\n",
       "      <td>0</td>\n",
       "      <td>0</td>\n",
       "      <td>0</td>\n",
       "      <td>0</td>\n",
       "    </tr>\n",
       "    <tr>\n",
       "      <th>72</th>\n",
       "      <td>180</td>\n",
       "      <td>10.0</td>\n",
       "      <td>350.0</td>\n",
       "      <td>3.5</td>\n",
       "      <td>0.008658</td>\n",
       "      <td>35.0</td>\n",
       "      <td>1.0</td>\n",
       "      <td>nanosheets</td>\n",
       "      <td>955.0</td>\n",
       "      <td>0</td>\n",
       "      <td>...</td>\n",
       "      <td>0</td>\n",
       "      <td>0</td>\n",
       "      <td>0</td>\n",
       "      <td>0</td>\n",
       "      <td>0</td>\n",
       "      <td>0</td>\n",
       "      <td>0</td>\n",
       "      <td>0</td>\n",
       "      <td>0</td>\n",
       "      <td>0</td>\n",
       "    </tr>\n",
       "    <tr>\n",
       "      <th>73</th>\n",
       "      <td>180</td>\n",
       "      <td>10.0</td>\n",
       "      <td>350.0</td>\n",
       "      <td>3.5</td>\n",
       "      <td>0.008658</td>\n",
       "      <td>35.0</td>\n",
       "      <td>1.0</td>\n",
       "      <td>nanoflowers</td>\n",
       "      <td>368.0</td>\n",
       "      <td>0</td>\n",
       "      <td>...</td>\n",
       "      <td>0</td>\n",
       "      <td>0</td>\n",
       "      <td>0</td>\n",
       "      <td>0</td>\n",
       "      <td>0</td>\n",
       "      <td>0</td>\n",
       "      <td>0</td>\n",
       "      <td>0</td>\n",
       "      <td>0</td>\n",
       "      <td>0</td>\n",
       "    </tr>\n",
       "    <tr>\n",
       "      <th>74</th>\n",
       "      <td>180</td>\n",
       "      <td>10.0</td>\n",
       "      <td>350.0</td>\n",
       "      <td>3.5</td>\n",
       "      <td>0.008658</td>\n",
       "      <td>70.0</td>\n",
       "      <td>1.0</td>\n",
       "      <td>nanoflowers</td>\n",
       "      <td>413.5</td>\n",
       "      <td>0</td>\n",
       "      <td>...</td>\n",
       "      <td>0</td>\n",
       "      <td>0</td>\n",
       "      <td>0</td>\n",
       "      <td>0</td>\n",
       "      <td>0</td>\n",
       "      <td>0</td>\n",
       "      <td>0</td>\n",
       "      <td>0</td>\n",
       "      <td>0</td>\n",
       "      <td>0</td>\n",
       "    </tr>\n",
       "  </tbody>\n",
       "</table>\n",
       "<p>75 rows × 309 columns</p>\n",
       "</div>"
      ],
      "text/plain": [
       "    temperature_1  time_1  temperature_2  time_2  m_salt_2  volume_solvent  \\\n",
       "0              90    12.0          400.0     3.0  1.000000           280.0   \n",
       "1              90    12.0          400.0     3.0  1.000000           280.0   \n",
       "2              90    12.0          400.0     3.0  1.000000           280.0   \n",
       "3              90    12.0          400.0     3.0  1.000000           280.0   \n",
       "4             140    12.0          300.0     3.0  1.000000            20.0   \n",
       "..            ...     ...            ...     ...       ...             ...   \n",
       "70            180    10.0          350.0     3.5  0.008658            35.0   \n",
       "71            180    10.0          350.0     3.5  0.008658            35.0   \n",
       "72            180    10.0          350.0     3.5  0.008658            35.0   \n",
       "73            180    10.0          350.0     3.5  0.008658            35.0   \n",
       "74            180    10.0          350.0     3.5  0.008658            70.0   \n",
       "\n",
       "    density    structure  capacity  0  ...  290  291  292  293  294  295  296  \\\n",
       "0      20.0  urchin-like     295.0  0  ...    0    0    0    0    0    0    0   \n",
       "1      30.0  urchin-like     250.0  0  ...    0    0    0    0    0    0    0   \n",
       "2      40.0  urchin-like     237.0  0  ...    0    0    0    0    0    0    0   \n",
       "3      60.0  urchin-like     225.0  0  ...    0    0    0    0    0    0    0   \n",
       "4       1.0     nanorods     710.0  0  ...    0    0    0    0    0    0    0   \n",
       "..      ...          ...       ... ..  ...  ...  ...  ...  ...  ...  ...  ...   \n",
       "70      1.0   nanosheets     558.6  0  ...    0    0    0    0    0    0    0   \n",
       "71      1.0   nanosheets     484.6  0  ...    0    0    0    0    0    0    0   \n",
       "72      1.0   nanosheets     955.0  0  ...    0    0    0    0    0    0    0   \n",
       "73      1.0  nanoflowers     368.0  0  ...    0    0    0    0    0    0    0   \n",
       "74      1.0  nanoflowers     413.5  0  ...    0    0    0    0    0    0    0   \n",
       "\n",
       "    297  298  299  \n",
       "0     0    0    0  \n",
       "1     0    0    0  \n",
       "2     0    0    0  \n",
       "3     0    0    0  \n",
       "4     0    0    0  \n",
       "..  ...  ...  ...  \n",
       "70    0    0    0  \n",
       "71    0    0    0  \n",
       "72    0    0    0  \n",
       "73    0    0    0  \n",
       "74    0    0    0  \n",
       "\n",
       "[75 rows x 309 columns]"
      ]
     },
     "execution_count": 256,
     "metadata": {},
     "output_type": "execute_result"
    }
   ],
   "source": [
    "preproc_data"
   ]
  },
  {
   "cell_type": "code",
   "execution_count": 278,
   "id": "informed-angola",
   "metadata": {},
   "outputs": [],
   "source": [
    "y_class_fp = preproc_data.structure\n",
    "y = preproc_data.capacity"
   ]
  },
  {
   "cell_type": "code",
   "execution_count": 279,
   "id": "significant-length",
   "metadata": {},
   "outputs": [],
   "source": [
    "x = preproc_data.drop(['capacity', 'structure'], axis=1)"
   ]
  },
  {
   "cell_type": "code",
   "execution_count": 280,
   "id": "administrative-jersey",
   "metadata": {},
   "outputs": [],
   "source": [
    "X_train, X_test, y_train, y_test = train_test_split(x, y, test_size=0.4, random_state=100)"
   ]
  },
  {
   "cell_type": "code",
   "execution_count": 410,
   "id": "indoor-eugene",
   "metadata": {},
   "outputs": [
    {
     "data": {
      "text/plain": [
       "265.49639556718125"
      ]
     },
     "execution_count": 410,
     "metadata": {},
     "output_type": "execute_result"
    }
   ],
   "source": [
    "xgb_fp = XGBRegressor()\n",
    "xgb_fp.fit(X_train, y_train)\n",
    "\n",
    "y_xgb_fp = xgb_fp.predict(X_test)\n",
    "np.sqrt(mean_squared_error(y_xgb_fp, y_test))"
   ]
  },
  {
   "cell_type": "code",
   "execution_count": 411,
   "id": "aquatic-tackle",
   "metadata": {},
   "outputs": [
    {
     "data": {
      "text/plain": [
       "<matplotlib.legend.Legend at 0x7ff171f7d8e0>"
      ]
     },
     "execution_count": 411,
     "metadata": {},
     "output_type": "execute_result"
    },
    {
     "data": {
      "image/png": "[encoded data removed]",
      "text/plain": [
       "<Figure size 720x504 with 1 Axes>"
      ]
     },
     "metadata": {},
     "output_type": "display_data"
    }
   ],
   "source": [
    "plt.rcParams[\"figure.figsize\"] = (10, 7)\n",
    "sns.set(style=\"darkgrid\")\n",
    "\n",
    "sns.lineplot(x=range(len(y_test)), y=y_test, label='real')\n",
    "sns.lineplot(x=range(len(y_test)), y=y_xgb, label='xgb')\n",
    "sns.lineplot(x=range(len(y_test)), y=y_forest, label='forest')\n",
    "# sns.lineplot(x=range(len(y_test)), y=y_cat, label='cat')\n",
    "sns.lineplot(x=range(len(y_test)), y=y_xgb_fp, label='xgb_fp')\n",
    "plt.legend()"
   ]
  },
  {
   "cell_type": "code",
   "execution_count": 412,
   "id": "known-metallic",
   "metadata": {},
   "outputs": [],
   "source": [
    "import plotly.express as px"
   ]
  },
  {
   "cell_type": "code",
   "execution_count": 295,
   "id": "fixed-stewart",
   "metadata": {},
   "outputs": [],
   "source": [
    "res = pd.DataFrame()"
   ]
  },
  {
   "cell_type": "code",
   "execution_count": 466,
   "id": "specialized-length",
   "metadata": {},
   "outputs": [],
   "source": [
    "models = {'xgb' : y_xgb, 'real' : y_test, 'forest' : y_forest, 'xgb_fp' : y_xgb_fp,\n",
    "    \n",
    "}\n",
    "for name, result in models.items():\n",
    "    curr_res = []\n",
    "    for i, r in enumerate(result):\n",
    "        res = res.append({'it': i, 'model' : name, 'capacity' : r}, ignore_index=True)       "
   ]
  },
  {
   "cell_type": "code",
   "execution_count": 468,
   "id": "ideal-vaccine",
   "metadata": {},
   "outputs": [
    {
     "data": {
      "text/plain": [
       "0       549.268799\n",
       "1      1117.860229\n",
       "2       296.381958\n",
       "3       267.005402\n",
       "4       655.191406\n",
       "          ...     \n",
       "175     849.000000\n",
       "176     296.000000\n",
       "177     758.000000\n",
       "178     484.600000\n",
       "179     926.000000\n",
       "Name: capacity, Length: 150, dtype: float64"
      ]
     },
     "execution_count": 468,
     "metadata": {},
     "output_type": "execute_result"
    }
   ],
   "source": [
    "res[res.model == 'real'].capacity"
   ]
  },
  {
   "cell_type": "code",
   "execution_count": 292,
   "id": "computational-nursing",
   "metadata": {},
   "outputs": [
    {
     "data": {
      "application/vnd.plotly.v1+json": {
       "config": {
        "plotlyServerURL": "https://plot.ly"
       },
       "data": [
        {
         "hovertemplate": "model=xgb<br>it=%{x}<br>capacity=%{y}<extra></extra>",
         "legendgroup": "xgb",
         "line": {
          "color": "#636efa",
          "dash": "solid"
         },
         "marker": {
          "symbol": "circle"
         },
         "mode": "lines",
         "name": "xgb",
         "orientation": "v",
         "showlegend": true,
         "type": "scatter",
         "x": [
          0,
          1,
          2,
          3,
          4,
          5,
          6,
          7,
          8,
          9,
          10,
          11,
          12,
          13,
          14,
          15,
          16,
          17,
          18,
          19,
          20,
          21,
          22,
          23,
          24,
          25,
          26,
          27,
          28,
          29
         ],
         "xaxis": "x",
         "y": [
          549.268798828125,
          1117.8602294921875,
          296.3819580078125,
          267.0054016113281,
          655.19140625,
          641.9771728515625,
          512.2429809570312,
          296.3819580078125,
          267.12628173828125,
          135.57017517089844,
          657.7183227539062,
          296.3819580078125,
          482.5335388183594,
          698.4472045898438,
          157.01620483398438,
          148.23695373535156,
          1033.9119873046875,
          624.333251953125,
          2511.166259765625,
          1008.3468017578125,
          124.16030883789062,
          890.9410400390625,
          274.5099792480469,
          709.6911010742188,
          2524.457275390625,
          446.2049560546875,
          624.333251953125,
          666.108642578125,
          619.6510009765625,
          167.6281280517578
         ],
         "yaxis": "y"
        },
        {
         "hovertemplate": "model=real<br>it=%{x}<br>capacity=%{y}<extra></extra>",
         "legendgroup": "real",
         "line": {
          "color": "#EF553B",
          "dash": "solid"
         },
         "marker": {
          "symbol": "circle"
         },
         "mode": "lines",
         "name": "real",
         "orientation": "v",
         "showlegend": true,
         "type": "scatter",
         "x": [
          0,
          1,
          2,
          3,
          4,
          5,
          6,
          7,
          8,
          9,
          10,
          11,
          12,
          13,
          14,
          15,
          16,
          17,
          18,
          19,
          20,
          21,
          22,
          23,
          24,
          25,
          26,
          27,
          28,
          29
         ],
         "xaxis": "x",
         "y": [
          172,
          384,
          575,
          148,
          424,
          853.8,
          600,
          498,
          1058,
          153.2,
          500,
          243,
          1029,
          667,
          2681,
          1650,
          792,
          109,
          1196,
          413.5,
          812,
          558.6,
          743,
          2305,
          295,
          849,
          296,
          758,
          484.6,
          926
         ],
         "yaxis": "y"
        },
        {
         "hovertemplate": "model=forest<br>it=%{x}<br>capacity=%{y}<extra></extra>",
         "legendgroup": "forest",
         "line": {
          "color": "#00cc96",
          "dash": "solid"
         },
         "marker": {
          "symbol": "circle"
         },
         "mode": "lines",
         "name": "forest",
         "orientation": "v",
         "showlegend": true,
         "type": "scatter",
         "x": [
          0,
          1,
          2,
          3,
          4,
          5,
          6,
          7,
          8,
          9,
          10,
          11,
          12,
          13,
          14,
          15,
          16,
          17,
          18,
          19,
          20,
          21,
          22,
          23,
          24,
          25,
          26,
          27,
          28,
          29
         ],
         "xaxis": "x",
         "y": [
          451.35975936507816,
          1099.7034666666664,
          463.31696349206356,
          332.70656333333454,
          597.5852192063529,
          640.9147606349217,
          530.7168611111125,
          463.31696349206356,
          331.8645633333345,
          165.4256888888891,
          619.6827784126996,
          463.31696349206356,
          497.0812085714317,
          1128.9951099999967,
          181.99453333333352,
          169.16622222222247,
          998.680772222224,
          652.5356495238116,
          1765.911255555552,
          1259.9123166666666,
          132.46882222222226,
          817.8111704761906,
          446.10892444444363,
          669.0127182539698,
          1791.399722222219,
          542.325001111111,
          652.5356495238116,
          658.8091788359878,
          591.7971311111171,
          186.43074666666678
         ],
         "yaxis": "y"
        },
        {
         "hovertemplate": "model=xgb_fp<br>it=%{x}<br>capacity=%{y}<extra></extra>",
         "legendgroup": "xgb_fp",
         "line": {
          "color": "#ab63fa",
          "dash": "solid"
         },
         "marker": {
          "symbol": "circle"
         },
         "mode": "lines",
         "name": "xgb_fp",
         "orientation": "v",
         "showlegend": true,
         "type": "scatter",
         "x": [
          0,
          1,
          2,
          3,
          4,
          5,
          6,
          7,
          8,
          9,
          10,
          11,
          12,
          13,
          14,
          15,
          16,
          17,
          18,
          19,
          20,
          21,
          22,
          23,
          24,
          25,
          26,
          27,
          28,
          29
         ],
         "xaxis": "x",
         "y": [
          263.55889892578125,
          861.1971435546875,
          890.994873046875,
          214.00341796875,
          353.1419677734375,
          490.0043640136719,
          861.60986328125,
          618.5849609375,
          1072.8819580078125,
          653.0149536132812,
          882.9418334960938,
          333.1742858886719,
          1037.1072998046875,
          1055.4659423828125,
          2523.987548828125,
          1536.0953369140625,
          1352.083251953125,
          109.08779907226562,
          1272.3934326171875,
          777.3276977539062,
          891.001220703125,
          661.5001220703125,
          890.994873046875,
          2396.26611328125,
          250.3299102783203,
          893.1036376953125,
          890.994873046875,
          734.6988525390625,
          661.5001220703125,
          658.0006103515625
         ],
         "yaxis": "y"
        }
       ],
       "layout": {
        "legend": {
         "title": {
          "text": "model"
         },
         "tracegroupgap": 0
        },
        "template": {
         "data": {
          "bar": [
           {
            "error_x": {
             "color": "#2a3f5f"
            },
            "error_y": {
             "color": "#2a3f5f"
            },
            "marker": {
             "line": {
              "color": "#E5ECF6",
              "width": 0.5
             },
             "pattern": {
              "fillmode": "overlay",
              "size": 10,
              "solidity": 0.2
             }
            },
            "type": "bar"
           }
          ],
          "barpolar": [
           {
            "marker": {
             "line": {
              "color": "#E5ECF6",
              "width": 0.5
             },
             "pattern": {
              "fillmode": "overlay",
              "size": 10,
              "solidity": 0.2
             }
            },
            "type": "barpolar"
           }
          ],
          "carpet": [
           {
            "aaxis": {
             "endlinecolor": "#2a3f5f",
             "gridcolor": "white",
             "linecolor": "white",
             "minorgridcolor": "white",
             "startlinecolor": "#2a3f5f"
            },
            "baxis": {
             "endlinecolor": "#2a3f5f",
             "gridcolor": "white",
             "linecolor": "white",
             "minorgridcolor": "white",
             "startlinecolor": "#2a3f5f"
            },
            "type": "carpet"
           }
          ],
          "choropleth": [
           {
            "colorbar": {
             "outlinewidth": 0,
             "ticks": ""
            },
            "type": "choropleth"
           }
          ],
          "contour": [
           {
            "colorbar": {
             "outlinewidth": 0,
             "ticks": ""
            },
            "colorscale": [
             [
              0,
              "#0d0887"
             ],
             [
              0.1111111111111111,
              "#46039f"
             ],
             [
              0.2222222222222222,
              "#7201a8"
             ],
             [
              0.3333333333333333,
              "#9c179e"
             ],
             [
              0.4444444444444444,
              "#bd3786"
             ],
             [
              0.5555555555555556,
              "#d8576b"
             ],
             [
              0.6666666666666666,
              "#ed7953"
             ],
             [
              0.7777777777777778,
              "#fb9f3a"
             ],
             [
              0.8888888888888888,
              "#fdca26"
             ],
             [
              1,
              "#f0f921"
             ]
            ],
            "type": "contour"
           }
          ],
          "contourcarpet": [
           {
            "colorbar": {
             "outlinewidth": 0,
             "ticks": ""
            },
            "type": "contourcarpet"
           }
          ],
          "heatmap": [
           {
            "colorbar": {
             "outlinewidth": 0,
             "ticks": ""
            },
            "colorscale": [
             [
              0,
              "#0d0887"
             ],
             [
              0.1111111111111111,
              "#46039f"
             ],
             [
              0.2222222222222222,
              "#7201a8"
             ],
             [
              0.3333333333333333,
              "#9c179e"
             ],
             [
              0.4444444444444444,
              "#bd3786"
             ],
             [
              0.5555555555555556,
              "#d8576b"
             ],
             [
              0.6666666666666666,
              "#ed7953"
             ],
             [
              0.7777777777777778,
              "#fb9f3a"
             ],
             [
              0.8888888888888888,
              "#fdca26"
             ],
             [
              1,
              "#f0f921"
             ]
            ],
            "type": "heatmap"
           }
          ],
          "heatmapgl": [
           {
            "colorbar": {
             "outlinewidth": 0,
             "ticks": ""
            },
            "colorscale": [
             [
              0,
              "#0d0887"
             ],
             [
              0.1111111111111111,
              "#46039f"
             ],
             [
              0.2222222222222222,
              "#7201a8"
             ],
             [
              0.3333333333333333,
              "#9c179e"
             ],
             [
              0.4444444444444444,
              "#bd3786"
             ],
             [
              0.5555555555555556,
              "#d8576b"
             ],
             [
              0.6666666666666666,
              "#ed7953"
             ],
             [
              0.7777777777777778,
              "#fb9f3a"
             ],
             [
              0.8888888888888888,
              "#fdca26"
             ],
             [
              1,
              "#f0f921"
             ]
            ],
            "type": "heatmapgl"
           }
          ],
          "histogram": [
           {
            "marker": {
             "pattern": {
              "fillmode": "overlay",
              "size": 10,
              "solidity": 0.2
             }
            },
            "type": "histogram"
           }
          ],
          "histogram2d": [
           {
            "colorbar": {
             "outlinewidth": 0,
             "ticks": ""
            },
            "colorscale": [
             [
              0,
              "#0d0887"
             ],
             [
              0.1111111111111111,
              "#46039f"
             ],
             [
              0.2222222222222222,
              "#7201a8"
             ],
             [
              0.3333333333333333,
              "#9c179e"
             ],
             [
              0.4444444444444444,
              "#bd3786"
             ],
             [
              0.5555555555555556,
              "#d8576b"
             ],
             [
              0.6666666666666666,
              "#ed7953"
             ],
             [
              0.7777777777777778,
              "#fb9f3a"
             ],
             [
              0.8888888888888888,
              "#fdca26"
             ],
             [
              1,
              "#f0f921"
             ]
            ],
            "type": "histogram2d"
           }
          ],
          "histogram2dcontour": [
           {
            "colorbar": {
             "outlinewidth": 0,
             "ticks": ""
            },
            "colorscale": [
             [
              0,
              "#0d0887"
             ],
             [
              0.1111111111111111,
              "#46039f"
             ],
             [
              0.2222222222222222,
              "#7201a8"
             ],
             [
              0.3333333333333333,
              "#9c179e"
             ],
             [
              0.4444444444444444,
              "#bd3786"
             ],
             [
              0.5555555555555556,
              "#d8576b"
             ],
             [
              0.6666666666666666,
              "#ed7953"
             ],
             [
              0.7777777777777778,
              "#fb9f3a"
             ],
             [
              0.8888888888888888,
              "#fdca26"
             ],
             [
              1,
              "#f0f921"
             ]
            ],
            "type": "histogram2dcontour"
           }
          ],
          "mesh3d": [
           {
            "colorbar": {
             "outlinewidth": 0,
             "ticks": ""
            },
            "type": "mesh3d"
           }
          ],
          "parcoords": [
           {
            "line": {
             "colorbar": {
              "outlinewidth": 0,
              "ticks": ""
             }
            },
            "type": "parcoords"
           }
          ],
          "pie": [
           {
            "automargin": true,
            "type": "pie"
           }
          ],
          "scatter": [
           {
            "marker": {
             "colorbar": {
              "outlinewidth": 0,
              "ticks": ""
             }
            },
            "type": "scatter"
           }
          ],
          "scatter3d": [
           {
            "line": {
             "colorbar": {
              "outlinewidth": 0,
              "ticks": ""
             }
            },
            "marker": {
             "colorbar": {
              "outlinewidth": 0,
              "ticks": ""
             }
            },
            "type": "scatter3d"
           }
          ],
          "scattercarpet": [
           {
            "marker": {
             "colorbar": {
              "outlinewidth": 0,
              "ticks": ""
             }
            },
            "type": "scattercarpet"
           }
          ],
          "scattergeo": [
           {
            "marker": {
             "colorbar": {
              "outlinewidth": 0,
              "ticks": ""
             }
            },
            "type": "scattergeo"
           }
          ],
          "scattergl": [
           {
            "marker": {
             "colorbar": {
              "outlinewidth": 0,
              "ticks": ""
             }
            },
            "type": "scattergl"
           }
          ],
          "scattermapbox": [
           {
            "marker": {
             "colorbar": {
              "outlinewidth": 0,
              "ticks": ""
             }
            },
            "type": "scattermapbox"
           }
          ],
          "scatterpolar": [
           {
            "marker": {
             "colorbar": {
              "outlinewidth": 0,
              "ticks": ""
             }
            },
            "type": "scatterpolar"
           }
          ],
          "scatterpolargl": [
           {
            "marker": {
             "colorbar": {
              "outlinewidth": 0,
              "ticks": ""
             }
            },
            "type": "scatterpolargl"
           }
          ],
          "scatterternary": [
           {
            "marker": {
             "colorbar": {
              "outlinewidth": 0,
              "ticks": ""
             }
            },
            "type": "scatterternary"
           }
          ],
          "surface": [
           {
            "colorbar": {
             "outlinewidth": 0,
             "ticks": ""
            },
            "colorscale": [
             [
              0,
              "#0d0887"
             ],
             [
              0.1111111111111111,
              "#46039f"
             ],
             [
              0.2222222222222222,
              "#7201a8"
             ],
             [
              0.3333333333333333,
              "#9c179e"
             ],
             [
              0.4444444444444444,
              "#bd3786"
             ],
             [
              0.5555555555555556,
              "#d8576b"
             ],
             [
              0.6666666666666666,
              "#ed7953"
             ],
             [
              0.7777777777777778,
              "#fb9f3a"
             ],
             [
              0.8888888888888888,
              "#fdca26"
             ],
             [
              1,
              "#f0f921"
             ]
            ],
            "type": "surface"
           }
          ],
          "table": [
           {
            "cells": {
             "fill": {
              "color": "#EBF0F8"
             },
             "line": {
              "color": "white"
             }
            },
            "header": {
             "fill": {
              "color": "#C8D4E3"
             },
             "line": {
              "color": "white"
             }
            },
            "type": "table"
           }
          ]
         },
         "layout": {
          "annotationdefaults": {
           "arrowcolor": "#2a3f5f",
           "arrowhead": 0,
           "arrowwidth": 1
          },
          "autotypenumbers": "strict",
          "coloraxis": {
           "colorbar": {
            "outlinewidth": 0,
            "ticks": ""
           }
          },
          "colorscale": {
           "diverging": [
            [
             0,
             "#8e0152"
            ],
            [
             0.1,
             "#c51b7d"
            ],
            [
             0.2,
             "#de77ae"
            ],
            [
             0.3,
             "#f1b6da"
            ],
            [
             0.4,
             "#fde0ef"
            ],
            [
             0.5,
             "#f7f7f7"
            ],
            [
             0.6,
             "#e6f5d0"
            ],
            [
             0.7,
             "#b8e186"
            ],
            [
             0.8,
             "#7fbc41"
            ],
            [
             0.9,
             "#4d9221"
            ],
            [
             1,
             "#276419"
            ]
           ],
           "sequential": [
            [
             0,
             "#0d0887"
            ],
            [
             0.1111111111111111,
             "#46039f"
            ],
            [
             0.2222222222222222,
             "#7201a8"
            ],
            [
             0.3333333333333333,
             "#9c179e"
            ],
            [
             0.4444444444444444,
             "#bd3786"
            ],
            [
             0.5555555555555556,
             "#d8576b"
            ],
            [
             0.6666666666666666,
             "#ed7953"
            ],
            [
             0.7777777777777778,
             "#fb9f3a"
            ],
            [
             0.8888888888888888,
             "#fdca26"
            ],
            [
             1,
             "#f0f921"
            ]
           ],
           "sequentialminus": [
            [
             0,
             "#0d0887"
            ],
            [
             0.1111111111111111,
             "#46039f"
            ],
            [
             0.2222222222222222,
             "#7201a8"
            ],
            [
             0.3333333333333333,
             "#9c179e"
            ],
            [
             0.4444444444444444,
             "#bd3786"
            ],
            [
             0.5555555555555556,
             "#d8576b"
            ],
            [
             0.6666666666666666,
             "#ed7953"
            ],
            [
             0.7777777777777778,
             "#fb9f3a"
            ],
            [
             0.8888888888888888,
             "#fdca26"
            ],
            [
             1,
             "#f0f921"
            ]
           ]
          },
          "colorway": [
           "#636efa",
           "#EF553B",
           "#00cc96",
           "#ab63fa",
           "#FFA15A",
           "#19d3f3",
           "#FF6692",
           "#B6E880",
           "#FF97FF",
           "#FECB52"
          ],
          "font": {
           "color": "#2a3f5f"
          },
          "geo": {
           "bgcolor": "white",
           "lakecolor": "white",
           "landcolor": "#E5ECF6",
           "showlakes": true,
           "showland": true,
           "subunitcolor": "white"
          },
          "hoverlabel": {
           "align": "left"
          },
          "hovermode": "closest",
          "mapbox": {
           "style": "light"
          },
          "paper_bgcolor": "white",
          "plot_bgcolor": "#E5ECF6",
          "polar": {
           "angularaxis": {
            "gridcolor": "white",
            "linecolor": "white",
            "ticks": ""
           },
           "bgcolor": "#E5ECF6",
           "radialaxis": {
            "gridcolor": "white",
            "linecolor": "white",
            "ticks": ""
           }
          },
          "scene": {
           "xaxis": {
            "backgroundcolor": "#E5ECF6",
            "gridcolor": "white",
            "gridwidth": 2,
            "linecolor": "white",
            "showbackground": true,
            "ticks": "",
            "zerolinecolor": "white"
           },
           "yaxis": {
            "backgroundcolor": "#E5ECF6",
            "gridcolor": "white",
            "gridwidth": 2,
            "linecolor": "white",
            "showbackground": true,
            "ticks": "",
            "zerolinecolor": "white"
           },
           "zaxis": {
            "backgroundcolor": "#E5ECF6",
            "gridcolor": "white",
            "gridwidth": 2,
            "linecolor": "white",
            "showbackground": true,
            "ticks": "",
            "zerolinecolor": "white"
           }
          },
          "shapedefaults": {
           "line": {
            "color": "#2a3f5f"
           }
          },
          "ternary": {
           "aaxis": {
            "gridcolor": "white",
            "linecolor": "white",
            "ticks": ""
           },
           "baxis": {
            "gridcolor": "white",
            "linecolor": "white",
            "ticks": ""
           },
           "bgcolor": "#E5ECF6",
           "caxis": {
            "gridcolor": "white",
            "linecolor": "white",
            "ticks": ""
           }
          },
          "title": {
           "x": 0.05
          },
          "xaxis": {
           "automargin": true,
           "gridcolor": "white",
           "linecolor": "white",
           "ticks": "",
           "title": {
            "standoff": 15
           },
           "zerolinecolor": "white",
           "zerolinewidth": 2
          },
          "yaxis": {
           "automargin": true,
           "gridcolor": "white",
           "linecolor": "white",
           "ticks": "",
           "title": {
            "standoff": 15
           },
           "zerolinecolor": "white",
           "zerolinewidth": 2
          }
         }
        },
        "title": {
         "text": "Точность модели"
        },
        "xaxis": {
         "anchor": "y",
         "domain": [
          0,
          1
         ],
         "title": {
          "text": "it"
         }
        },
        "yaxis": {
         "anchor": "x",
         "domain": [
          0,
          1
         ],
         "title": {
          "text": "capacity"
         }
        }
       }
      },
      "text/html": [
       "<div>                            <div id=\"592dee9b-5a85-4b2e-b672-d72e102a3531\" class=\"plotly-graph-div\" style=\"height:525px; width:100%;\"></div>            <script type=\"text/javascript\">                require([\"plotly\"], function(Plotly) {                    window.PLOTLYENV=window.PLOTLYENV || {};                                    if (document.getElementById(\"592dee9b-5a85-4b2e-b672-d72e102a3531\")) {                    Plotly.newPlot(                        \"592dee9b-5a85-4b2e-b672-d72e102a3531\",                        [{\"hovertemplate\":\"model=xgb<br>it=%{x}<br>capacity=%{y}<extra></extra>\",\"legendgroup\":\"xgb\",\"line\":{\"color\":\"#636efa\",\"dash\":\"solid\"},\"marker\":{\"symbol\":\"circle\"},\"mode\":\"lines\",\"name\":\"xgb\",\"orientation\":\"v\",\"showlegend\":true,\"x\":[0.0,1.0,2.0,3.0,4.0,5.0,6.0,7.0,8.0,9.0,10.0,11.0,12.0,13.0,14.0,15.0,16.0,17.0,18.0,19.0,20.0,21.0,22.0,23.0,24.0,25.0,26.0,27.0,28.0,29.0],\"xaxis\":\"x\",\"y\":[549.268798828125,1117.8602294921875,296.3819580078125,267.0054016113281,655.19140625,641.9771728515625,512.2429809570312,296.3819580078125,267.12628173828125,135.57017517089844,657.7183227539062,296.3819580078125,482.5335388183594,698.4472045898438,157.01620483398438,148.23695373535156,1033.9119873046875,624.333251953125,2511.166259765625,1008.3468017578125,124.16030883789062,890.9410400390625,274.5099792480469,709.6911010742188,2524.457275390625,446.2049560546875,624.333251953125,666.108642578125,619.6510009765625,167.6281280517578],\"yaxis\":\"y\",\"type\":\"scatter\"},{\"hovertemplate\":\"model=real<br>it=%{x}<br>capacity=%{y}<extra></extra>\",\"legendgroup\":\"real\",\"line\":{\"color\":\"#EF553B\",\"dash\":\"solid\"},\"marker\":{\"symbol\":\"circle\"},\"mode\":\"lines\",\"name\":\"real\",\"orientation\":\"v\",\"showlegend\":true,\"x\":[0.0,1.0,2.0,3.0,4.0,5.0,6.0,7.0,8.0,9.0,10.0,11.0,12.0,13.0,14.0,15.0,16.0,17.0,18.0,19.0,20.0,21.0,22.0,23.0,24.0,25.0,26.0,27.0,28.0,29.0],\"xaxis\":\"x\",\"y\":[172.0,384.0,575.0,148.0,424.0,853.8,600.0,498.0,1058.0,153.2,500.0,243.0,1029.0,667.0,2681.0,1650.0,792.0,109.0,1196.0,413.5,812.0,558.6,743.0,2305.0,295.0,849.0,296.0,758.0,484.6,926.0],\"yaxis\":\"y\",\"type\":\"scatter\"},{\"hovertemplate\":\"model=forest<br>it=%{x}<br>capacity=%{y}<extra></extra>\",\"legendgroup\":\"forest\",\"line\":{\"color\":\"#00cc96\",\"dash\":\"solid\"},\"marker\":{\"symbol\":\"circle\"},\"mode\":\"lines\",\"name\":\"forest\",\"orientation\":\"v\",\"showlegend\":true,\"x\":[0.0,1.0,2.0,3.0,4.0,5.0,6.0,7.0,8.0,9.0,10.0,11.0,12.0,13.0,14.0,15.0,16.0,17.0,18.0,19.0,20.0,21.0,22.0,23.0,24.0,25.0,26.0,27.0,28.0,29.0],\"xaxis\":\"x\",\"y\":[451.35975936507816,1099.7034666666664,463.31696349206356,332.70656333333454,597.5852192063529,640.9147606349217,530.7168611111125,463.31696349206356,331.8645633333345,165.4256888888891,619.6827784126996,463.31696349206356,497.0812085714317,1128.9951099999967,181.99453333333352,169.16622222222247,998.680772222224,652.5356495238116,1765.911255555552,1259.9123166666666,132.46882222222226,817.8111704761906,446.10892444444363,669.0127182539698,1791.399722222219,542.325001111111,652.5356495238116,658.8091788359878,591.7971311111171,186.43074666666678],\"yaxis\":\"y\",\"type\":\"scatter\"},{\"hovertemplate\":\"model=xgb_fp<br>it=%{x}<br>capacity=%{y}<extra></extra>\",\"legendgroup\":\"xgb_fp\",\"line\":{\"color\":\"#ab63fa\",\"dash\":\"solid\"},\"marker\":{\"symbol\":\"circle\"},\"mode\":\"lines\",\"name\":\"xgb_fp\",\"orientation\":\"v\",\"showlegend\":true,\"x\":[0.0,1.0,2.0,3.0,4.0,5.0,6.0,7.0,8.0,9.0,10.0,11.0,12.0,13.0,14.0,15.0,16.0,17.0,18.0,19.0,20.0,21.0,22.0,23.0,24.0,25.0,26.0,27.0,28.0,29.0],\"xaxis\":\"x\",\"y\":[263.55889892578125,861.1971435546875,890.994873046875,214.00341796875,353.1419677734375,490.0043640136719,861.60986328125,618.5849609375,1072.8819580078125,653.0149536132812,882.9418334960938,333.1742858886719,1037.1072998046875,1055.4659423828125,2523.987548828125,1536.0953369140625,1352.083251953125,109.08779907226562,1272.3934326171875,777.3276977539062,891.001220703125,661.5001220703125,890.994873046875,2396.26611328125,250.3299102783203,893.1036376953125,890.994873046875,734.6988525390625,661.5001220703125,658.0006103515625],\"yaxis\":\"y\",\"type\":\"scatter\"}],                        {\"template\":{\"data\":{\"bar\":[{\"error_x\":{\"color\":\"#2a3f5f\"},\"error_y\":{\"color\":\"#2a3f5f\"},\"marker\":{\"line\":{\"color\":\"#E5ECF6\",\"width\":0.5},\"pattern\":{\"fillmode\":\"overlay\",\"size\":10,\"solidity\":0.2}},\"type\":\"bar\"}],\"barpolar\":[{\"marker\":{\"line\":{\"color\":\"#E5ECF6\",\"width\":0.5},\"pattern\":{\"fillmode\":\"overlay\",\"size\":10,\"solidity\":0.2}},\"type\":\"barpolar\"}],\"carpet\":[{\"aaxis\":{\"endlinecolor\":\"#2a3f5f\",\"gridcolor\":\"white\",\"linecolor\":\"white\",\"minorgridcolor\":\"white\",\"startlinecolor\":\"#2a3f5f\"},\"baxis\":{\"endlinecolor\":\"#2a3f5f\",\"gridcolor\":\"white\",\"linecolor\":\"white\",\"minorgridcolor\":\"white\",\"startlinecolor\":\"#2a3f5f\"},\"type\":\"carpet\"}],\"choropleth\":[{\"colorbar\":{\"outlinewidth\":0,\"ticks\":\"\"},\"type\":\"choropleth\"}],\"contour\":[{\"colorbar\":{\"outlinewidth\":0,\"ticks\":\"\"},\"colorscale\":[[0.0,\"#0d0887\"],[0.1111111111111111,\"#46039f\"],[0.2222222222222222,\"#7201a8\"],[0.3333333333333333,\"#9c179e\"],[0.4444444444444444,\"#bd3786\"],[0.5555555555555556,\"#d8576b\"],[0.6666666666666666,\"#ed7953\"],[0.7777777777777778,\"#fb9f3a\"],[0.8888888888888888,\"#fdca26\"],[1.0,\"#f0f921\"]],\"type\":\"contour\"}],\"contourcarpet\":[{\"colorbar\":{\"outlinewidth\":0,\"ticks\":\"\"},\"type\":\"contourcarpet\"}],\"heatmap\":[{\"colorbar\":{\"outlinewidth\":0,\"ticks\":\"\"},\"colorscale\":[[0.0,\"#0d0887\"],[0.1111111111111111,\"#46039f\"],[0.2222222222222222,\"#7201a8\"],[0.3333333333333333,\"#9c179e\"],[0.4444444444444444,\"#bd3786\"],[0.5555555555555556,\"#d8576b\"],[0.6666666666666666,\"#ed7953\"],[0.7777777777777778,\"#fb9f3a\"],[0.8888888888888888,\"#fdca26\"],[1.0,\"#f0f921\"]],\"type\":\"heatmap\"}],\"heatmapgl\":[{\"colorbar\":{\"outlinewidth\":0,\"ticks\":\"\"},\"colorscale\":[[0.0,\"#0d0887\"],[0.1111111111111111,\"#46039f\"],[0.2222222222222222,\"#7201a8\"],[0.3333333333333333,\"#9c179e\"],[0.4444444444444444,\"#bd3786\"],[0.5555555555555556,\"#d8576b\"],[0.6666666666666666,\"#ed7953\"],[0.7777777777777778,\"#fb9f3a\"],[0.8888888888888888,\"#fdca26\"],[1.0,\"#f0f921\"]],\"type\":\"heatmapgl\"}],\"histogram\":[{\"marker\":{\"pattern\":{\"fillmode\":\"overlay\",\"size\":10,\"solidity\":0.2}},\"type\":\"histogram\"}],\"histogram2d\":[{\"colorbar\":{\"outlinewidth\":0,\"ticks\":\"\"},\"colorscale\":[[0.0,\"#0d0887\"],[0.1111111111111111,\"#46039f\"],[0.2222222222222222,\"#7201a8\"],[0.3333333333333333,\"#9c179e\"],[0.4444444444444444,\"#bd3786\"],[0.5555555555555556,\"#d8576b\"],[0.6666666666666666,\"#ed7953\"],[0.7777777777777778,\"#fb9f3a\"],[0.8888888888888888,\"#fdca26\"],[1.0,\"#f0f921\"]],\"type\":\"histogram2d\"}],\"histogram2dcontour\":[{\"colorbar\":{\"outlinewidth\":0,\"ticks\":\"\"},\"colorscale\":[[0.0,\"#0d0887\"],[0.1111111111111111,\"#46039f\"],[0.2222222222222222,\"#7201a8\"],[0.3333333333333333,\"#9c179e\"],[0.4444444444444444,\"#bd3786\"],[0.5555555555555556,\"#d8576b\"],[0.6666666666666666,\"#ed7953\"],[0.7777777777777778,\"#fb9f3a\"],[0.8888888888888888,\"#fdca26\"],[1.0,\"#f0f921\"]],\"type\":\"histogram2dcontour\"}],\"mesh3d\":[{\"colorbar\":{\"outlinewidth\":0,\"ticks\":\"\"},\"type\":\"mesh3d\"}],\"parcoords\":[{\"line\":{\"colorbar\":{\"outlinewidth\":0,\"ticks\":\"\"}},\"type\":\"parcoords\"}],\"pie\":[{\"automargin\":true,\"type\":\"pie\"}],\"scatter\":[{\"marker\":{\"colorbar\":{\"outlinewidth\":0,\"ticks\":\"\"}},\"type\":\"scatter\"}],\"scatter3d\":[{\"line\":{\"colorbar\":{\"outlinewidth\":0,\"ticks\":\"\"}},\"marker\":{\"colorbar\":{\"outlinewidth\":0,\"ticks\":\"\"}},\"type\":\"scatter3d\"}],\"scattercarpet\":[{\"marker\":{\"colorbar\":{\"outlinewidth\":0,\"ticks\":\"\"}},\"type\":\"scattercarpet\"}],\"scattergeo\":[{\"marker\":{\"colorbar\":{\"outlinewidth\":0,\"ticks\":\"\"}},\"type\":\"scattergeo\"}],\"scattergl\":[{\"marker\":{\"colorbar\":{\"outlinewidth\":0,\"ticks\":\"\"}},\"type\":\"scattergl\"}],\"scattermapbox\":[{\"marker\":{\"colorbar\":{\"outlinewidth\":0,\"ticks\":\"\"}},\"type\":\"scattermapbox\"}],\"scatterpolar\":[{\"marker\":{\"colorbar\":{\"outlinewidth\":0,\"ticks\":\"\"}},\"type\":\"scatterpolar\"}],\"scatterpolargl\":[{\"marker\":{\"colorbar\":{\"outlinewidth\":0,\"ticks\":\"\"}},\"type\":\"scatterpolargl\"}],\"scatterternary\":[{\"marker\":{\"colorbar\":{\"outlinewidth\":0,\"ticks\":\"\"}},\"type\":\"scatterternary\"}],\"surface\":[{\"colorbar\":{\"outlinewidth\":0,\"ticks\":\"\"},\"colorscale\":[[0.0,\"#0d0887\"],[0.1111111111111111,\"#46039f\"],[0.2222222222222222,\"#7201a8\"],[0.3333333333333333,\"#9c179e\"],[0.4444444444444444,\"#bd3786\"],[0.5555555555555556,\"#d8576b\"],[0.6666666666666666,\"#ed7953\"],[0.7777777777777778,\"#fb9f3a\"],[0.8888888888888888,\"#fdca26\"],[1.0,\"#f0f921\"]],\"type\":\"surface\"}],\"table\":[{\"cells\":{\"fill\":{\"color\":\"#EBF0F8\"},\"line\":{\"color\":\"white\"}},\"header\":{\"fill\":{\"color\":\"#C8D4E3\"},\"line\":{\"color\":\"white\"}},\"type\":\"table\"}]},\"layout\":{\"annotationdefaults\":{\"arrowcolor\":\"#2a3f5f\",\"arrowhead\":0,\"arrowwidth\":1},\"autotypenumbers\":\"strict\",\"coloraxis\":{\"colorbar\":{\"outlinewidth\":0,\"ticks\":\"\"}},\"colorscale\":{\"diverging\":[[0,\"#8e0152\"],[0.1,\"#c51b7d\"],[0.2,\"#de77ae\"],[0.3,\"#f1b6da\"],[0.4,\"#fde0ef\"],[0.5,\"#f7f7f7\"],[0.6,\"#e6f5d0\"],[0.7,\"#b8e186\"],[0.8,\"#7fbc41\"],[0.9,\"#4d9221\"],[1,\"#276419\"]],\"sequential\":[[0.0,\"#0d0887\"],[0.1111111111111111,\"#46039f\"],[0.2222222222222222,\"#7201a8\"],[0.3333333333333333,\"#9c179e\"],[0.4444444444444444,\"#bd3786\"],[0.5555555555555556,\"#d8576b\"],[0.6666666666666666,\"#ed7953\"],[0.7777777777777778,\"#fb9f3a\"],[0.8888888888888888,\"#fdca26\"],[1.0,\"#f0f921\"]],\"sequentialminus\":[[0.0,\"#0d0887\"],[0.1111111111111111,\"#46039f\"],[0.2222222222222222,\"#7201a8\"],[0.3333333333333333,\"#9c179e\"],[0.4444444444444444,\"#bd3786\"],[0.5555555555555556,\"#d8576b\"],[0.6666666666666666,\"#ed7953\"],[0.7777777777777778,\"#fb9f3a\"],[0.8888888888888888,\"#fdca26\"],[1.0,\"#f0f921\"]]},\"colorway\":[\"#636efa\",\"#EF553B\",\"#00cc96\",\"#ab63fa\",\"#FFA15A\",\"#19d3f3\",\"#FF6692\",\"#B6E880\",\"#FF97FF\",\"#FECB52\"],\"font\":{\"color\":\"#2a3f5f\"},\"geo\":{\"bgcolor\":\"white\",\"lakecolor\":\"white\",\"landcolor\":\"#E5ECF6\",\"showlakes\":true,\"showland\":true,\"subunitcolor\":\"white\"},\"hoverlabel\":{\"align\":\"left\"},\"hovermode\":\"closest\",\"mapbox\":{\"style\":\"light\"},\"paper_bgcolor\":\"white\",\"plot_bgcolor\":\"#E5ECF6\",\"polar\":{\"angularaxis\":{\"gridcolor\":\"white\",\"linecolor\":\"white\",\"ticks\":\"\"},\"bgcolor\":\"#E5ECF6\",\"radialaxis\":{\"gridcolor\":\"white\",\"linecolor\":\"white\",\"ticks\":\"\"}},\"scene\":{\"xaxis\":{\"backgroundcolor\":\"#E5ECF6\",\"gridcolor\":\"white\",\"gridwidth\":2,\"linecolor\":\"white\",\"showbackground\":true,\"ticks\":\"\",\"zerolinecolor\":\"white\"},\"yaxis\":{\"backgroundcolor\":\"#E5ECF6\",\"gridcolor\":\"white\",\"gridwidth\":2,\"linecolor\":\"white\",\"showbackground\":true,\"ticks\":\"\",\"zerolinecolor\":\"white\"},\"zaxis\":{\"backgroundcolor\":\"#E5ECF6\",\"gridcolor\":\"white\",\"gridwidth\":2,\"linecolor\":\"white\",\"showbackground\":true,\"ticks\":\"\",\"zerolinecolor\":\"white\"}},\"shapedefaults\":{\"line\":{\"color\":\"#2a3f5f\"}},\"ternary\":{\"aaxis\":{\"gridcolor\":\"white\",\"linecolor\":\"white\",\"ticks\":\"\"},\"baxis\":{\"gridcolor\":\"white\",\"linecolor\":\"white\",\"ticks\":\"\"},\"bgcolor\":\"#E5ECF6\",\"caxis\":{\"gridcolor\":\"white\",\"linecolor\":\"white\",\"ticks\":\"\"}},\"title\":{\"x\":0.05},\"xaxis\":{\"automargin\":true,\"gridcolor\":\"white\",\"linecolor\":\"white\",\"ticks\":\"\",\"title\":{\"standoff\":15},\"zerolinecolor\":\"white\",\"zerolinewidth\":2},\"yaxis\":{\"automargin\":true,\"gridcolor\":\"white\",\"linecolor\":\"white\",\"ticks\":\"\",\"title\":{\"standoff\":15},\"zerolinecolor\":\"white\",\"zerolinewidth\":2}}},\"xaxis\":{\"anchor\":\"y\",\"domain\":[0.0,1.0],\"title\":{\"text\":\"it\"}},\"yaxis\":{\"anchor\":\"x\",\"domain\":[0.0,1.0],\"title\":{\"text\":\"capacity\"}},\"legend\":{\"title\":{\"text\":\"model\"},\"tracegroupgap\":0},\"title\":{\"text\":\"\\u0422\\u043e\\u0447\\u043d\\u043e\\u0441\\u0442\\u044c \\u043c\\u043e\\u0434\\u0435\\u043b\\u0438\"}},                        {\"responsive\": true}                    ).then(function(){\n",
       "                            \n",
       "var gd = document.getElementById('592dee9b-5a85-4b2e-b672-d72e102a3531');\n",
       "var x = new MutationObserver(function (mutations, observer) {{\n",
       "        var display = window.getComputedStyle(gd).display;\n",
       "        if (!display || display === 'none') {{\n",
       "            console.log([gd, 'removed!']);\n",
       "            Plotly.purge(gd);\n",
       "            observer.disconnect();\n",
       "        }}\n",
       "}});\n",
       "\n",
       "// Listen for the removal of the full notebook cells\n",
       "var notebookContainer = gd.closest('#notebook-container');\n",
       "if (notebookContainer) {{\n",
       "    x.observe(notebookContainer, {childList: true});\n",
       "}}\n",
       "\n",
       "// Listen for the clearing of the current output cell\n",
       "var outputEl = gd.closest('.output');\n",
       "if (outputEl) {{\n",
       "    x.observe(outputEl, {childList: true});\n",
       "}}\n",
       "\n",
       "                        })                };                });            </script>        </div>"
      ]
     },
     "metadata": {},
     "output_type": "display_data"
    }
   ],
   "source": [
    "fig = px.line(res, x='it', y='capacity', color='model', title = 'Точность модели')\n",
    "fig.show()"
   ]
  },
  {
   "cell_type": "markdown",
   "id": "radio-germany",
   "metadata": {},
   "source": [
    "### Загрузка и предикт"
   ]
  },
  {
   "cell_type": "code",
   "execution_count": 444,
   "id": "recreational-productivity",
   "metadata": {},
   "outputs": [],
   "source": [
    "tmp = [100, 2, 350, 4, 2, 20, 10, 'urea', 'Nickel(II) nitrate hexahydrate', 'Nickel(II) nitrate hexahydrate']"
   ]
  },
  {
   "cell_type": "code",
   "execution_count": 439,
   "id": "continuous-classic",
   "metadata": {},
   "outputs": [],
   "source": [
    "# tmp = ['temperature_1', 'time_1', 'temperature_2', 'time_2', 'base',\n",
    "#        'm_salt_2', 'name_salt1', 'name_salt2', 'volume_solvent', 'density']"
   ]
  },
  {
   "cell_type": "code",
   "execution_count": 456,
   "id": "spiritual-services",
   "metadata": {},
   "outputs": [
    {
     "data": {
      "text/plain": [
       "['urea', 'Nickel(II) nitrate hexahydrate', 'Nickel(II) nitrate hexahydrate']"
      ]
     },
     "execution_count": 456,
     "metadata": {},
     "output_type": "execute_result"
    }
   ],
   "source": [
    "tmp[7:]"
   ]
  },
  {
   "cell_type": "code",
   "execution_count": 451,
   "id": "intense-truck",
   "metadata": {},
   "outputs": [],
   "source": [
    "def preproc(tmp):\n",
    "    descriptors = []\n",
    "    for i in tmp[7:]:\n",
    "        descriptors.extend(morgan_fingerprint(mol_name_to_smiles(i)))\n",
    "    preproc_tmp = tmp[:7]\n",
    "    preproc_tmp = dict(zip(['temperature_1', 'time_1', 'temperature_2', 'time_2',\n",
    "        'm_salt_2', 'volume_solvent', 'density'], preproc_tmp))\n",
    "    print(preproc_tmp)\n",
    "    for i, d in enumerate(descriptors):\n",
    "        preproc_tmp[str(i)] = d\n",
    "    return preproc_tmp\n",
    "        \n",
    "        "
   ]
  },
  {
   "cell_type": "code",
   "execution_count": 452,
   "id": "corporate-blogger",
   "metadata": {},
   "outputs": [
    {
     "name": "stdout",
     "output_type": "stream",
     "text": [
      "{'temperature_1': 100, 'time_1': 2, 'temperature_2': 350, 'time_2': 4, 'm_salt_2': 2, 'volume_solvent': 20, 'density': 10}\n"
     ]
    }
   ],
   "source": [
    "pr = pd.DataFrame(preproc(tmp), index=[0])"
   ]
  },
  {
   "cell_type": "code",
   "execution_count": 453,
   "id": "ultimate-correspondence",
   "metadata": {},
   "outputs": [],
   "source": [
    "import pickle\n",
    "file_name = \"xgb_fp.pkl\"\n",
    "\n",
    "# save\n",
    "pickle.dump(xgb_fp, open(file_name, \"wb\"))\n",
    "\n",
    "# load\n",
    "xgb_model_loaded = pickle.load(open(file_name, \"rb\"))"
   ]
  },
  {
   "cell_type": "code",
   "execution_count": 454,
   "id": "champion-dietary",
   "metadata": {},
   "outputs": [
    {
     "data": {
      "text/plain": [
       "array([585.18823], dtype=float32)"
      ]
     },
     "execution_count": 454,
     "metadata": {},
     "output_type": "execute_result"
    }
   ],
   "source": [
    "xgb_model_loaded.predict(pr)"
   ]
  },
  {
   "cell_type": "code",
   "execution_count": null,
   "id": "sweet-madagascar",
   "metadata": {},
   "outputs": [],
   "source": []
  }
 ],
 "metadata": {
  "kernelspec": {
   "display_name": "Python 3",
   "language": "python",
   "name": "python3"
  },
  "language_info": {
   "codemirror_mode": {
    "name": "ipython",
    "version": 3
   },
   "file_extension": ".py",
   "mimetype": "text/x-python",
   "name": "python",
   "nbconvert_exporter": "python",
   "pygments_lexer": "ipython3",
   "version": "3.8.3"
  }
 },
 "nbformat": 4,
 "nbformat_minor": 5
}
